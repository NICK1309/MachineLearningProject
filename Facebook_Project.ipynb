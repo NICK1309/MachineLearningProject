{
  "cells": [
    {
      "cell_type": "markdown",
      "metadata": {
        "id": "licw_obs2ZJF"
      },
      "source": [
        "## Importing packages   "
      ]
    },
    {
      "cell_type": "code",
      "execution_count": null,
      "metadata": {
        "id": "XCNvBsOo2ZJG",
        "outputId": "40fddf60-70c0-4afb-9e56-2d19ae22ca30",
        "colab": {
          "base_uri": "https://localhost:8080/",
          "height": 373
        }
      },
      "outputs": [
        {
          "output_type": "error",
          "ename": "ModuleNotFoundError",
          "evalue": "ignored",
          "traceback": [
            "\u001b[0;31m---------------------------------------------------------------------------\u001b[0m",
            "\u001b[0;31mModuleNotFoundError\u001b[0m                       Traceback (most recent call last)",
            "\u001b[0;32m<ipython-input-1-af93d6c43c4d>\u001b[0m in \u001b[0;36m<cell line: 4>\u001b[0;34m()\u001b[0m\n\u001b[1;32m      2\u001b[0m \u001b[0;32mimport\u001b[0m \u001b[0mpandas\u001b[0m \u001b[0;32mas\u001b[0m \u001b[0mpd\u001b[0m                       \u001b[0;31m# For data manipulation and analysis\u001b[0m\u001b[0;34m\u001b[0m\u001b[0;34m\u001b[0m\u001b[0m\n\u001b[1;32m      3\u001b[0m \u001b[0;34m\u001b[0m\u001b[0m\n\u001b[0;32m----> 4\u001b[0;31m \u001b[0;32mimport\u001b[0m \u001b[0mpandas_profiling\u001b[0m\u001b[0;34m\u001b[0m\u001b[0;34m\u001b[0m\u001b[0m\n\u001b[0m\u001b[1;32m      5\u001b[0m \u001b[0;34m\u001b[0m\u001b[0m\n\u001b[1;32m      6\u001b[0m \u001b[0;32mimport\u001b[0m \u001b[0mmatplotlib\u001b[0m\u001b[0;34m.\u001b[0m\u001b[0mpyplot\u001b[0m \u001b[0;32mas\u001b[0m \u001b[0mplt\u001b[0m           \u001b[0;31m# Plotting library for Python programming language and it's numerical mathematics extension NumPy\u001b[0m\u001b[0;34m\u001b[0m\u001b[0;34m\u001b[0m\u001b[0m\n",
            "\u001b[0;31mModuleNotFoundError\u001b[0m: No module named 'pandas_profiling'",
            "",
            "\u001b[0;31m---------------------------------------------------------------------------\u001b[0;32m\nNOTE: If your import is failing due to a missing package, you can\nmanually install dependencies using either !pip or !apt.\n\nTo view examples of installing some common dependencies, click the\n\"Open Examples\" button below.\n\u001b[0;31m---------------------------------------------------------------------------\u001b[0m\n"
          ],
          "errorDetails": {
            "actions": [
              {
                "action": "open_url",
                "actionText": "Open Examples",
                "url": "/notebooks/snippets/importing_libraries.ipynb"
              }
            ]
          }
        }
      ],
      "source": [
        "import numpy as np                        # Implemennts milti-dimensional array and matrices\n",
        "import pandas as pd                       # For data manipulation and analysis\n",
        "\n",
        "import pandas_profiling\n",
        "\n",
        "import matplotlib.pyplot as plt           # Plotting library for Python programming language and it's numerical mathematics extension NumPy\n",
        "import seaborn as sns                     # Provides a high level interface for drawing attractive and informative statistical graphics\n",
        "%matplotlib inline\n",
        "sns.set()\n",
        "\n",
        "from subprocess import check_output"
      ]
    },
    {
      "cell_type": "markdown",
      "metadata": {
        "id": "goDgSDC82ZJH"
      },
      "source": [
        "## Importing the Dataset"
      ]
    },
    {
      "cell_type": "code",
      "execution_count": null,
      "metadata": {
        "id": "hT9Pag4D2ZJH"
      },
      "outputs": [],
      "source": [
        "FB_data_df = pd.read_csv('https://raw.githubusercontent.com/insaid2018/Term-1/master/Data/Projects/facebook_data.csv')           # Importing dataset using pd.read_csv"
      ]
    },
    {
      "cell_type": "markdown",
      "metadata": {
        "id": "MneT0hit2ZJI"
      },
      "source": [
        "## Data Profiling"
      ]
    },
    {
      "cell_type": "markdown",
      "metadata": {
        "id": "HNRGr6Oc2ZJI"
      },
      "source": [
        "###  1 Understanding the Dataset"
      ]
    },
    {
      "cell_type": "code",
      "execution_count": null,
      "metadata": {
        "id": "YcB9Nj7e2ZJI"
      },
      "outputs": [],
      "source": [
        "FB_data_df.drop_duplicates()"
      ]
    },
    {
      "cell_type": "code",
      "execution_count": null,
      "metadata": {
        "id": "whf3H6mK2ZJI"
      },
      "outputs": [],
      "source": [
        "FB_data_df.shape"
      ]
    },
    {
      "cell_type": "code",
      "execution_count": null,
      "metadata": {
        "id": "--0lM87W2ZJJ"
      },
      "outputs": [],
      "source": [
        "FB_data_df.columns"
      ]
    },
    {
      "cell_type": "code",
      "execution_count": null,
      "metadata": {
        "id": "0M5gM1S62ZJJ"
      },
      "outputs": [],
      "source": [
        "FB_data_df.head()"
      ]
    },
    {
      "cell_type": "code",
      "execution_count": null,
      "metadata": {
        "id": "QcfMnrcA2ZJJ"
      },
      "outputs": [],
      "source": [
        "FB_data_df.tail()"
      ]
    },
    {
      "cell_type": "code",
      "execution_count": null,
      "metadata": {
        "id": "pl9V1D072ZJJ"
      },
      "outputs": [],
      "source": [
        "FB_data_df.info()"
      ]
    },
    {
      "cell_type": "code",
      "execution_count": null,
      "metadata": {
        "id": "q7CXw8Zs2ZJJ"
      },
      "outputs": [],
      "source": [
        "FB_data_df.describe()"
      ]
    },
    {
      "cell_type": "code",
      "execution_count": null,
      "metadata": {
        "id": "G24erEIC2ZJJ"
      },
      "outputs": [],
      "source": [
        "FB_data_df.isnull().sum()"
      ]
    },
    {
      "cell_type": "markdown",
      "metadata": {
        "id": "P1idlS0Z2ZJK"
      },
      "source": [
        "From the above output we can see that __gender__ and __tensure__ columns contains __null values__. We will see how to deal with them."
      ]
    },
    {
      "cell_type": "markdown",
      "metadata": {
        "id": "s3rj5ExX2ZJK"
      },
      "source": [
        "###  2 Pre Profiling"
      ]
    },
    {
      "cell_type": "code",
      "execution_count": null,
      "metadata": {
        "id": "XG5fONFC2ZJK"
      },
      "outputs": [],
      "source": [
        "'''\n",
        "profile = pandas_profiling.ProfileReport(FB_data_df)\n",
        "profile.to_file(outputfile = \"facebook_before_preprocessing.html\")\n",
        "\n",
        "'''"
      ]
    },
    {
      "cell_type": "code",
      "execution_count": null,
      "metadata": {
        "id": "ARBCFS4K2ZJK"
      },
      "outputs": [],
      "source": [
        "FB_data_df.gender = FB_data_df.gender.fillna(FB_data_df['gender'].mode()[0])\n",
        "# filling the null values in gender column as na"
      ]
    },
    {
      "cell_type": "code",
      "execution_count": null,
      "metadata": {
        "id": "LYOtaeeX2ZJK"
      },
      "outputs": [],
      "source": [
        "FB_data_df['dob'] =  FB_data_df['dob_month'].map(str) + '/' + FB_data_df['dob_day'].map(str) + '/' + FB_data_df['dob_year'].map(str)\n",
        "# Creating a new column dob from dob_day dob_year dob_month"
      ]
    },
    {
      "cell_type": "code",
      "execution_count": null,
      "metadata": {
        "id": "PPBTGXZj2ZJK"
      },
      "outputs": [],
      "source": [
        "FB_data_df['dob'] = pd.to_datetime(FB_data_df['dob'], format='%m/%d/%Y')\n",
        "# Converting the dob column into pandas datetime format"
      ]
    },
    {
      "cell_type": "code",
      "execution_count": null,
      "metadata": {
        "id": "iQv-urpu2ZJK"
      },
      "outputs": [],
      "source": [
        "FB_data_df.head()"
      ]
    },
    {
      "cell_type": "code",
      "execution_count": null,
      "metadata": {
        "id": "CUyhvFzp2ZJL"
      },
      "outputs": [],
      "source": [
        "FB_data_df.tail()"
      ]
    },
    {
      "cell_type": "code",
      "execution_count": null,
      "metadata": {
        "id": "tJRWzT3G2ZJL"
      },
      "outputs": [],
      "source": [
        "FB_data_df.isnull().sum()"
      ]
    },
    {
      "cell_type": "markdown",
      "metadata": {
        "id": "QvtrU80s2ZJL"
      },
      "source": [
        "###  3 Post Profiling"
      ]
    },
    {
      "cell_type": "code",
      "execution_count": null,
      "metadata": {
        "id": "4oSO_nsZ2ZJL"
      },
      "outputs": [],
      "source": [
        "'''\n",
        "profile = pandas_profiling.ProfileReport(FB_data_df)\n",
        "profile.to_file(outputfile=\"facebook_after_preprocessing.html\")\n",
        "\n",
        "'''"
      ]
    },
    {
      "cell_type": "markdown",
      "metadata": {
        "id": "8-1Ni2h22ZJL"
      },
      "source": [
        "## Questions"
      ]
    },
    {
      "cell_type": "markdown",
      "metadata": {
        "id": "SV8vaHMF2ZJL"
      },
      "source": [
        "###  1 Who is more likely to use facebook, male or female?"
      ]
    },
    {
      "cell_type": "code",
      "execution_count": null,
      "metadata": {
        "id": "CWNbR2jh2ZJL"
      },
      "outputs": [],
      "source": [
        "sns.countplot(x='gender', data=FB_data_df).set_title('Count plot for user.')"
      ]
    },
    {
      "cell_type": "markdown",
      "metadata": {
        "id": "xCK1Gj952ZJL"
      },
      "source": [
        "__Male__ use facebook more as compared to __Female__"
      ]
    },
    {
      "cell_type": "code",
      "execution_count": null,
      "metadata": {
        "id": "O0sJ6m0U2ZJL"
      },
      "outputs": [],
      "source": [
        "FB_data_df.groupby(['gender'])['gender'].count()"
      ]
    },
    {
      "cell_type": "markdown",
      "metadata": {
        "id": "VeAeU5Kk2ZJM"
      },
      "source": [
        "There are __40254 Female__ users and __58749 Male__ users"
      ]
    },
    {
      "cell_type": "markdown",
      "metadata": {
        "id": "CBY01c9E2ZJM"
      },
      "source": [
        "###  2 Which age group uses facebook more?"
      ]
    },
    {
      "cell_type": "code",
      "execution_count": null,
      "metadata": {
        "id": "1nuodnEy2ZJM"
      },
      "outputs": [],
      "source": [
        "as_fig = sns.FacetGrid(FB_data_df,aspect=5)\n",
        "\n",
        "as_fig.map(sns.kdeplot,'age',shade=True)\n",
        "\n",
        "oldest = FB_data_df['age'].max()\n",
        "\n",
        "as_fig.set(xlim=(0,oldest))\n",
        "\n",
        "as_fig.add_legend()\n",
        "plt.title('Age distribution using FacetGrid')"
      ]
    },
    {
      "cell_type": "code",
      "execution_count": null,
      "metadata": {
        "id": "7EtIuOC42ZJM"
      },
      "outputs": [],
      "source": [
        "sns.set(color_codes=True)                                                # Plot a histogram of the respondents' ages (remove any NaN values)\n",
        "sns.set_palette(sns.color_palette(\"muted\"))\n",
        "sns.set(rc={'figure.figsize':(12,9)})\n",
        "sns.distplot(FB_data_df[\"age\"].dropna());"
      ]
    },
    {
      "cell_type": "markdown",
      "metadata": {
        "id": "K9dXcQbo2ZJM"
      },
      "source": [
        "- In the given facebook data __People__ of Age __15-25__ yrs are in majority.\n",
        "- There is a small peak between 45-70 years"
      ]
    },
    {
      "cell_type": "markdown",
      "metadata": {
        "id": "C8kMbeHk2ZJM"
      },
      "source": [
        "###  3 Which year group uses facebook more?"
      ]
    },
    {
      "cell_type": "code",
      "execution_count": null,
      "metadata": {
        "id": "KcTXHouz2ZJM"
      },
      "outputs": [],
      "source": [
        "bins = [1900, 1920, 1940, 1960, 1980, 2000]\n",
        "FB_data_df.groupby(pd.cut(FB_data_df['dob_year'], bins=bins)).dob_year.count().plot(kind='bar', figsize=(5,5))\n",
        "plt.show()"
      ]
    },
    {
      "cell_type": "markdown",
      "metadata": {
        "id": "6RZNt88h2ZJM"
      },
      "source": [
        "- From the given data it is seen that there is a __rise in__ the __use__ of facebook __after__ the __year 1940__.\n",
        "- People from the year group __1980 - 2000 use__ facebook the __most__."
      ]
    },
    {
      "cell_type": "markdown",
      "metadata": {
        "id": "eIlY-Fpq2ZJM"
      },
      "source": [
        "###  4 Which gender had more friend count more ?"
      ]
    },
    {
      "cell_type": "code",
      "execution_count": null,
      "metadata": {
        "id": "rWTjGvWO2ZJX"
      },
      "outputs": [],
      "source": [
        "gen_vs_friend_count = FB_data_df[['gender','friend_count']].drop_duplicates().sort_values(by='gender').groupby(['gender'])['friend_count'].agg('count')\n",
        "gen_vs_friend_count.plot(kind='bar', legend = (0.60,0.9), x = (\"gender\", 10), y = (\"friend_count\", 10), title = (\"Total gender w.r.t friend_count\"), figsize=(5,5))"
      ]
    },
    {
      "cell_type": "markdown",
      "metadata": {
        "id": "CzwT20E32ZJX"
      },
      "source": [
        "- __Women__ have __more friends__ than men on facebook"
      ]
    },
    {
      "cell_type": "markdown",
      "metadata": {
        "id": "ixRuZIBU2ZJX"
      },
      "source": [
        "###  5 Which gender initiated friendship more ?"
      ]
    },
    {
      "cell_type": "code",
      "execution_count": null,
      "metadata": {
        "id": "JDhxzBvY2ZJX"
      },
      "outputs": [],
      "source": [
        "gen_vs_friendships_initiated = FB_data_df[['gender','friendships_initiated']].drop_duplicates().sort_values(by='gender').groupby(['gender'])['friendships_initiated'].agg('count')\n",
        "gen_vs_friendships_initiated.plot(kind='pie', legend = (0.60,0.9), x = (\"gender\", 10), y = (\"friendships_initiated\", 10), title = (\"Total gender w.r.t friendships_initiated\"), figsize=(6,6))"
      ]
    },
    {
      "cell_type": "markdown",
      "metadata": {
        "id": "DSbR6kW-2ZJY"
      },
      "source": [
        "- __Friendships initiated__ are __more__ in case of __men__ than women"
      ]
    },
    {
      "cell_type": "markdown",
      "metadata": {
        "id": "W55Gned62ZJY"
      },
      "source": [
        "###  6 Which gender has more likes ?"
      ]
    },
    {
      "cell_type": "code",
      "execution_count": null,
      "metadata": {
        "id": "pbirFQuw2ZJY"
      },
      "outputs": [],
      "source": [
        "gen_vs_likes = FB_data_df[['gender','likes']].sort_values(by='gender').drop_duplicates().groupby(['gender'])['likes'].agg('count')\n",
        "gen_vs_likes.plot(kind='bar', legend = (0.60,0.9), x = (\"gender\", 10), y = (\"likes\", 10), title = (\"Total gender w.r.t likes\"), figsize=(5,5))"
      ]
    },
    {
      "cell_type": "markdown",
      "metadata": {
        "id": "vH8WMOzD2ZJY"
      },
      "source": [
        "- __Female__ population has __more likes__ as compared to male population."
      ]
    },
    {
      "cell_type": "markdown",
      "metadata": {
        "id": "vEC2R_w42ZJY"
      },
      "source": [
        "###  Likes comparision ?"
      ]
    },
    {
      "cell_type": "code",
      "execution_count": null,
      "metadata": {
        "id": "sXUHezg32ZJY"
      },
      "outputs": [],
      "source": [
        "gen_vs_likes_recv = FB_data_df[['gender','likes_received']].sort_values(by='gender').drop_duplicates().groupby(['gender'])['likes_received'].agg('count')\n",
        "gen_vs_likes_recv.plot(kind='bar', legend = (0.70,0.10), x = (\"gender\", 15), y = (\"likes_received\", 15), title = (\"Total gender w.r.t likes_received\"), figsize=(5, 5))"
      ]
    },
    {
      "cell_type": "markdown",
      "metadata": {
        "id": "zRacdCtX2ZJY"
      },
      "source": [
        "- __Female__ population received __more likes__ as compared to male population."
      ]
    },
    {
      "cell_type": "code",
      "execution_count": null,
      "metadata": {
        "id": "v3fUj8m32ZJY"
      },
      "outputs": [],
      "source": [
        "gen_vs_mobile_likes = FB_data_df[['gender','mobile_likes']].sort_values(by='gender').drop_duplicates().groupby(['gender'])['mobile_likes'].agg('count')\n",
        "gen_vs_mobile_likes.plot(kind='bar', legend = (0.70,0.10), x = (\"gender\", 15), y = (\"mobile_likes\", 15), title = (\"Total gender w.r.t mobile_likes\"), figsize=(5, 5),colormap='hot')\n",
        "\n",
        "gen_vs_moblikes_recv = FB_data_df[['gender','mobile_likes_received']].sort_values(by='gender').drop_duplicates().groupby(['gender'])['mobile_likes_received'].agg('count')\n",
        "gen_vs_moblikes_recv.plot(kind='bar', legend = (0.70,0.10), x = (\"gender\", 15), y = (\"mobile_likes_received\", 15), title = (\"Total gender w.r.t mobile_likes_received\"), figsize=(5, 5),colormap='gist_rainbow')\n",
        "\n",
        "gen_vs_www_likes = FB_data_df[['gender','www_likes']].sort_values(by='gender').drop_duplicates().groupby(['gender'])['www_likes'].agg('count')\n",
        "gen_vs_www_likes.plot(kind='bar', legend = (0.70,0.10), x = (\"gender\", 15), y = (\"www_likes\", 15), title = (\"Total gender w.r.t www_likes\"), figsize=(5, 5),colormap='summer')\n",
        "\n",
        "gen_vs_wwwlikes_rec = FB_data_df[['gender','www_likes_received']].sort_values(by='gender').drop_duplicates().groupby(['gender'])['www_likes_received'].agg('count')\n",
        "gen_vs_wwwlikes_rec.plot(kind='bar', legend = (0.70,0.10), x = (\"gender\", 15), y = (\"www_likes_received\", 15), title = (\"Total gender w.r.t www_likes_received\"), figsize=(5, 5))"
      ]
    },
    {
      "cell_type": "markdown",
      "metadata": {
        "id": "D-VGYJxP2ZJZ"
      },
      "source": [
        "- __More likes from mobile__ as compared to site though few users still use sites\n",
        "- __Female__ population __gave more likes__ as compared to male population."
      ]
    }
  ],
  "metadata": {
    "kernelspec": {
      "display_name": "Python 3",
      "language": "python",
      "name": "python3"
    },
    "language_info": {
      "codemirror_mode": {
        "name": "ipython",
        "version": 3
      },
      "file_extension": ".py",
      "mimetype": "text/x-python",
      "name": "python",
      "nbconvert_exporter": "python",
      "pygments_lexer": "ipython3",
      "version": "3.7.3"
    },
    "colab": {
      "provenance": []
    }
  },
  "nbformat": 4,
  "nbformat_minor": 0
}